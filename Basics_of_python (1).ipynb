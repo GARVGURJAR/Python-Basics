{
 "cells": [
  {
   "cell_type": "markdown",
   "id": "fa5b3d60",
   "metadata": {},
   "source": [
    "# Print hello world"
   ]
  },
  {
   "cell_type": "code",
   "execution_count": 3,
   "id": "5e4adfee",
   "metadata": {
    "scrolled": true
   },
   "outputs": [
    {
     "name": "stdout",
     "output_type": "stream",
     "text": [
      "10\n"
     ]
    }
   ],
   "source": [
    "print(10)"
   ]
  },
  {
   "cell_type": "code",
   "execution_count": 5,
   "id": "3dca36e5",
   "metadata": {},
   "outputs": [
    {
     "name": "stdout",
     "output_type": "stream",
     "text": [
      "12\n"
     ]
    }
   ],
   "source": [
    "print(10+2)"
   ]
  },
  {
   "cell_type": "code",
   "execution_count": 6,
   "id": "2081d2cb",
   "metadata": {},
   "outputs": [
    {
     "name": "stdout",
     "output_type": "stream",
     "text": [
      "GARV\n"
     ]
    }
   ],
   "source": [
    "print(\"GARV\")"
   ]
  },
  {
   "cell_type": "markdown",
   "id": "4bc1775b",
   "metadata": {},
   "source": [
    "# Datatypes"
   ]
  },
  {
   "cell_type": "code",
   "execution_count": 16,
   "id": "ab5f2bac",
   "metadata": {},
   "outputs": [
    {
     "data": {
      "text/plain": [
       "100"
      ]
     },
     "execution_count": 16,
     "metadata": {},
     "output_type": "execute_result"
    }
   ],
   "source": [
    "x=100\n",
    "x"
   ]
  },
  {
   "cell_type": "code",
   "execution_count": 17,
   "id": "ec0cc5da",
   "metadata": {},
   "outputs": [
    {
     "name": "stdout",
     "output_type": "stream",
     "text": [
      "100\n"
     ]
    }
   ],
   "source": [
    "print(x)"
   ]
  },
  {
   "cell_type": "code",
   "execution_count": 18,
   "id": "6b17d233",
   "metadata": {},
   "outputs": [
    {
     "name": "stdout",
     "output_type": "stream",
     "text": [
      "100\n"
     ]
    }
   ],
   "source": [
    "print (x)"
   ]
  },
  {
   "cell_type": "code",
   "execution_count": 19,
   "id": "7267980d",
   "metadata": {},
   "outputs": [
    {
     "data": {
      "text/plain": [
       "int"
      ]
     },
     "execution_count": 19,
     "metadata": {},
     "output_type": "execute_result"
    }
   ],
   "source": [
    "type(x)"
   ]
  },
  {
   "cell_type": "code",
   "execution_count": 21,
   "id": "86c4caa2",
   "metadata": {},
   "outputs": [
    {
     "data": {
      "text/plain": [
       "float"
      ]
     },
     "execution_count": 21,
     "metadata": {},
     "output_type": "execute_result"
    }
   ],
   "source": [
    "x=10.0\n",
    "type(x)"
   ]
  },
  {
   "cell_type": "code",
   "execution_count": 24,
   "id": "f6b0290c",
   "metadata": {},
   "outputs": [
    {
     "data": {
      "text/plain": [
       "str"
      ]
     },
     "execution_count": 24,
     "metadata": {},
     "output_type": "execute_result"
    }
   ],
   "source": [
    "x=\"GARV\"\n",
    "type(x)"
   ]
  },
  {
   "cell_type": "code",
   "execution_count": 26,
   "id": "3dc49fab",
   "metadata": {},
   "outputs": [
    {
     "data": {
      "text/plain": [
       "bool"
      ]
     },
     "execution_count": 26,
     "metadata": {},
     "output_type": "execute_result"
    }
   ],
   "source": [
    "a=True\n",
    "type(a)"
   ]
  },
  {
   "cell_type": "code",
   "execution_count": 27,
   "id": "60f6e33b",
   "metadata": {},
   "outputs": [
    {
     "data": {
      "text/plain": [
       "bool"
      ]
     },
     "execution_count": 27,
     "metadata": {},
     "output_type": "execute_result"
    }
   ],
   "source": [
    "b=False\n",
    "type(b)"
   ]
  },
  {
   "cell_type": "code",
   "execution_count": 2,
   "id": "b836ac66",
   "metadata": {},
   "outputs": [
    {
     "data": {
      "text/plain": [
       "(10, int)"
      ]
     },
     "execution_count": 2,
     "metadata": {},
     "output_type": "execute_result"
    }
   ],
   "source": [
    "x=10\n",
    "x,type(x)"
   ]
  },
  {
   "cell_type": "code",
   "execution_count": 17,
   "id": "b18d2ddb",
   "metadata": {},
   "outputs": [
    {
     "data": {
      "text/plain": [
       "(22, int)"
      ]
     },
     "execution_count": 17,
     "metadata": {},
     "output_type": "execute_result"
    }
   ],
   "source": [
    "x=\"Garv\"\n",
    "x,type(x)\n",
    "y=22\n",
    "y,type(y)"
   ]
  },
  {
   "cell_type": "markdown",
   "id": "5d6aaee1",
   "metadata": {},
   "source": [
    "# Rules for naming variables"
   ]
  },
  {
   "cell_type": "code",
   "execution_count": 30,
   "id": "29e228c0",
   "metadata": {},
   "outputs": [
    {
     "data": {
      "text/plain": [
       "('haey', 'baey', 'erynest')"
      ]
     },
     "execution_count": 30,
     "metadata": {},
     "output_type": "execute_result"
    }
   ],
   "source": [
    "book_names=(\"haey\", \"baey\", \"erynest\")\n",
    "book_names"
   ]
  },
  {
   "cell_type": "code",
   "execution_count": 31,
   "id": "2b5b14a2",
   "metadata": {},
   "outputs": [
    {
     "ename": "SyntaxError",
     "evalue": "invalid syntax (2644135713.py, line 1)",
     "output_type": "error",
     "traceback": [
      "\u001b[1;36m  Input \u001b[1;32mIn [31]\u001b[1;36m\u001b[0m\n\u001b[1;33m    book names=(\"helo, we, get\")\u001b[0m\n\u001b[1;37m         ^\u001b[0m\n\u001b[1;31mSyntaxError\u001b[0m\u001b[1;31m:\u001b[0m invalid syntax\n"
     ]
    }
   ],
   "source": [
    "book names=(\"helo, we, get\")"
   ]
  },
  {
   "cell_type": "code",
   "execution_count": 32,
   "id": "80fc4717",
   "metadata": {},
   "outputs": [
    {
     "ename": "SyntaxError",
     "evalue": "invalid decimal literal (2874063980.py, line 1)",
     "output_type": "error",
     "traceback": [
      "\u001b[1;36m  Input \u001b[1;32mIn [32]\u001b[1;36m\u001b[0m\n\u001b[1;33m    3_books=['hello,hey']\u001b[0m\n\u001b[1;37m     ^\u001b[0m\n\u001b[1;31mSyntaxError\u001b[0m\u001b[1;31m:\u001b[0m invalid decimal literal\n"
     ]
    }
   ],
   "source": [
    "3_books=['hello,hey']"
   ]
  },
  {
   "cell_type": "code",
   "execution_count": 33,
   "id": "4333aad0",
   "metadata": {},
   "outputs": [
    {
     "ename": "SyntaxError",
     "evalue": "invalid decimal literal (2874063980.py, line 1)",
     "output_type": "error",
     "traceback": [
      "\u001b[1;36m  Input \u001b[1;32mIn [33]\u001b[1;36m\u001b[0m\n\u001b[1;33m    3_books=['hello,hey']\u001b[0m\n\u001b[1;37m     ^\u001b[0m\n\u001b[1;31mSyntaxError\u001b[0m\u001b[1;31m:\u001b[0m invalid decimal literal\n"
     ]
    }
   ],
   "source": [
    "3_books=['hello,hey']"
   ]
  },
  {
   "cell_type": "code",
   "execution_count": 34,
   "id": "de43be49",
   "metadata": {},
   "outputs": [
    {
     "ename": "SyntaxError",
     "evalue": "invalid decimal literal (3589256389.py, line 1)",
     "output_type": "error",
     "traceback": [
      "\u001b[1;36m  Input \u001b[1;32mIn [34]\u001b[1;36m\u001b[0m\n\u001b[1;33m    3_books=['hello,hey']\u001b[0m\n\u001b[1;37m     ^\u001b[0m\n\u001b[1;31mSyntaxError\u001b[0m\u001b[1;31m:\u001b[0m invalid decimal literal\n"
     ]
    }
   ],
   "source": [
    "3_books=['hello,hey']\n",
    "3_books"
   ]
  },
  {
   "cell_type": "code",
   "execution_count": 35,
   "id": "c52d10f6",
   "metadata": {},
   "outputs": [
    {
     "data": {
      "text/plain": [
       "['hello,hey']"
      ]
     },
     "execution_count": 35,
     "metadata": {},
     "output_type": "execute_result"
    }
   ],
   "source": [
    "books_3=['hello,hey']\n",
    "books_3"
   ]
  },
  {
   "cell_type": "markdown",
   "id": "84ddca63",
   "metadata": {},
   "source": [
    "#### HENCE, space is not allowed in variables name\n",
    "#### variables can't be start with a number, but number can be used in the middle of variable\n",
    "#### only allowed special character is underscore\n",
    "#### variables name should start with A-Z, a-z or underscore"
   ]
  },
  {
   "cell_type": "markdown",
   "id": "93817c56",
   "metadata": {},
   "source": [
    "# DATASTRUCTURE"
   ]
  },
  {
   "cell_type": "markdown",
   "id": "2e33cea4",
   "metadata": {},
   "source": [
    "#### In list elements are written inside the square bracket []\n",
    "#### we can retrieve elemenst using index and index starts from zero\n",
    "#### mutable - means we can make changes, using index []"
   ]
  },
  {
   "cell_type": "code",
   "execution_count": 43,
   "id": "21d657cb",
   "metadata": {},
   "outputs": [
    {
     "data": {
      "text/plain": [
       "[1, 2.1, 2, 4, 'hey']"
      ]
     },
     "execution_count": 43,
     "metadata": {},
     "output_type": "execute_result"
    }
   ],
   "source": [
    "sample_list=[1,2.1,2,4,\"hey\"]\n",
    "sample_list"
   ]
  },
  {
   "cell_type": "code",
   "execution_count": 44,
   "id": "53e33938",
   "metadata": {},
   "outputs": [
    {
     "data": {
      "text/plain": [
       "list"
      ]
     },
     "execution_count": 44,
     "metadata": {},
     "output_type": "execute_result"
    }
   ],
   "source": [
    "type(sample_list)"
   ]
  },
  {
   "cell_type": "code",
   "execution_count": 46,
   "id": "c33f3dff",
   "metadata": {},
   "outputs": [
    {
     "data": {
      "text/plain": [
       "(1, 2.1, 2, 4, 'hey')"
      ]
     },
     "execution_count": 46,
     "metadata": {},
     "output_type": "execute_result"
    }
   ],
   "source": []
  },
  {
   "cell_type": "code",
   "execution_count": 47,
   "id": "515454f7",
   "metadata": {},
   "outputs": [
    {
     "data": {
      "text/plain": [
       "tuple"
      ]
     },
     "execution_count": 47,
     "metadata": {},
     "output_type": "execute_result"
    }
   ],
   "source": [
    "type(sample_list)"
   ]
  },
  {
   "cell_type": "markdown",
   "id": "7316ad69",
   "metadata": {},
   "source": [
    "#### because here square brackets are not used thats why its showing its tuple\n",
    "#### now again creating a list"
   ]
  },
  {
   "cell_type": "code",
   "execution_count": 50,
   "id": "8c8f5a7b",
   "metadata": {},
   "outputs": [
    {
     "data": {
      "text/plain": [
       "[1, 2.1, 2, 4, 'hey']"
      ]
     },
     "execution_count": 50,
     "metadata": {},
     "output_type": "execute_result"
    }
   ],
   "source": [
    "sample_list=[1,2.1,2,4,\"hey\"]\n",
    "sample_list"
   ]
  },
  {
   "cell_type": "code",
   "execution_count": 52,
   "id": "a4e1a3cf",
   "metadata": {},
   "outputs": [
    {
     "data": {
      "text/plain": [
       "2"
      ]
     },
     "execution_count": 52,
     "metadata": {},
     "output_type": "execute_result"
    }
   ],
   "source": [
    "sample_list[2]"
   ]
  },
  {
   "cell_type": "code",
   "execution_count": 54,
   "id": "c36b1cd9",
   "metadata": {},
   "outputs": [
    {
     "data": {
      "text/plain": [
       "2.1"
      ]
     },
     "execution_count": 54,
     "metadata": {},
     "output_type": "execute_result"
    }
   ],
   "source": [
    "sample_list[1]"
   ]
  },
  {
   "cell_type": "code",
   "execution_count": 55,
   "id": "77499422",
   "metadata": {},
   "outputs": [
    {
     "ename": "IndexError",
     "evalue": "list index out of range",
     "output_type": "error",
     "traceback": [
      "\u001b[1;31m---------------------------------------------------------------------------\u001b[0m",
      "\u001b[1;31mIndexError\u001b[0m                                Traceback (most recent call last)",
      "Input \u001b[1;32mIn [55]\u001b[0m, in \u001b[0;36m<cell line: 1>\u001b[1;34m()\u001b[0m\n\u001b[1;32m----> 1\u001b[0m \u001b[43msample_list\u001b[49m\u001b[43m[\u001b[49m\u001b[38;5;241;43m10\u001b[39;49m\u001b[43m]\u001b[49m\n",
      "\u001b[1;31mIndexError\u001b[0m: list index out of range"
     ]
    }
   ],
   "source": [
    "sample_list[10]"
   ]
  },
  {
   "cell_type": "markdown",
   "id": "f1f7e082",
   "metadata": {},
   "source": [
    "#### number inside the square bracket points to the index \n",
    "#### now here indexing is out of the range"
   ]
  },
  {
   "cell_type": "code",
   "execution_count": 56,
   "id": "5e939687",
   "metadata": {},
   "outputs": [
    {
     "data": {
      "text/plain": [
       "'hey'"
      ]
     },
     "execution_count": 56,
     "metadata": {},
     "output_type": "execute_result"
    }
   ],
   "source": [
    "sample_list[4]"
   ]
  },
  {
   "cell_type": "code",
   "execution_count": 57,
   "id": "13b36937",
   "metadata": {},
   "outputs": [],
   "source": [
    "sample_list[1]=100"
   ]
  },
  {
   "cell_type": "code",
   "execution_count": 58,
   "id": "ae865b7c",
   "metadata": {},
   "outputs": [
    {
     "data": {
      "text/plain": [
       "[1, 100, 2, 4, 'hey']"
      ]
     },
     "execution_count": 58,
     "metadata": {},
     "output_type": "execute_result"
    }
   ],
   "source": [
    "sample_list"
   ]
  },
  {
   "cell_type": "markdown",
   "id": "727c03d1",
   "metadata": {},
   "source": [
    "#### here we have muted or updated the list with index 1 and added a new element into the list"
   ]
  },
  {
   "cell_type": "markdown",
   "id": "62376851",
   "metadata": {},
   "source": [
    "#### NOW, Parenthesis -> tuple\n",
    "#### immutable - we cannot make the changes"
   ]
  },
  {
   "cell_type": "code",
   "execution_count": 63,
   "id": "a354ba23",
   "metadata": {},
   "outputs": [
    {
     "data": {
      "text/plain": [
       "(1, 2.1, 2, 4, 'hey')"
      ]
     },
     "execution_count": 63,
     "metadata": {},
     "output_type": "execute_result"
    }
   ],
   "source": [
    "sample_list=(1,2.1,2,4,\"hey\")\n",
    "sample_list"
   ]
  },
  {
   "cell_type": "code",
   "execution_count": 64,
   "id": "e6fbec23",
   "metadata": {},
   "outputs": [
    {
     "data": {
      "text/plain": [
       "tuple"
      ]
     },
     "execution_count": 64,
     "metadata": {},
     "output_type": "execute_result"
    }
   ],
   "source": [
    "type(sample_list)"
   ]
  },
  {
   "cell_type": "code",
   "execution_count": 68,
   "id": "b78761de",
   "metadata": {},
   "outputs": [
    {
     "data": {
      "text/plain": [
       "2.1"
      ]
     },
     "execution_count": 68,
     "metadata": {},
     "output_type": "execute_result"
    }
   ],
   "source": [
    "sample_list[1]"
   ]
  },
  {
   "cell_type": "code",
   "execution_count": 69,
   "id": "2aa00adb",
   "metadata": {},
   "outputs": [
    {
     "ename": "TypeError",
     "evalue": "'tuple' object does not support item assignment",
     "output_type": "error",
     "traceback": [
      "\u001b[1;31m---------------------------------------------------------------------------\u001b[0m",
      "\u001b[1;31mTypeError\u001b[0m                                 Traceback (most recent call last)",
      "Input \u001b[1;32mIn [69]\u001b[0m, in \u001b[0;36m<cell line: 1>\u001b[1;34m()\u001b[0m\n\u001b[1;32m----> 1\u001b[0m sample_list[\u001b[38;5;241m1\u001b[39m]\u001b[38;5;241m=\u001b[39m\u001b[38;5;241m12\u001b[39m\n",
      "\u001b[1;31mTypeError\u001b[0m: 'tuple' object does not support item assignment"
     ]
    }
   ],
   "source": [
    "sample_list[1]=12"
   ]
  },
  {
   "cell_type": "markdown",
   "id": "448beb1c",
   "metadata": {},
   "source": [
    "#### {}\n",
    "#### duplicates are not allowed \n",
    "#### arranged according to first digit\n",
    "#### cannot access using index\n",
    "#### mutable but not using index, but with .add() or .remove()"
   ]
  },
  {
   "cell_type": "code",
   "execution_count": 3,
   "id": "1e54b135",
   "metadata": {},
   "outputs": [
    {
     "data": {
      "text/plain": [
       "{1.3, 10, 89, 9, 'hi'}"
      ]
     },
     "execution_count": 3,
     "metadata": {},
     "output_type": "execute_result"
    }
   ],
   "source": [
    "sample_set={10,9,1.3,89,\"hi\"}\n",
    "sample_set"
   ]
  },
  {
   "cell_type": "code",
   "execution_count": 4,
   "id": "3af41ada-1bb8-4600-92b1-167608c50ebc",
   "metadata": {},
   "outputs": [
    {
     "data": {
      "text/plain": [
       "set"
      ]
     },
     "execution_count": 4,
     "metadata": {},
     "output_type": "execute_result"
    }
   ],
   "source": [
    "type(sample_set)"
   ]
  },
  {
   "cell_type": "code",
   "execution_count": 78,
   "id": "e3f6d7d2",
   "metadata": {},
   "outputs": [
    {
     "ename": "TypeError",
     "evalue": "'set' object is not subscriptable",
     "output_type": "error",
     "traceback": [
      "\u001b[1;31m---------------------------------------------------------------------------\u001b[0m",
      "\u001b[1;31mTypeError\u001b[0m                                 Traceback (most recent call last)",
      "Input \u001b[1;32mIn [78]\u001b[0m, in \u001b[0;36m<cell line: 1>\u001b[1;34m()\u001b[0m\n\u001b[1;32m----> 1\u001b[0m \u001b[43msample_set\u001b[49m\u001b[43m[\u001b[49m\u001b[38;5;241;43m2\u001b[39;49m\u001b[43m]\u001b[49m\n",
      "\u001b[1;31mTypeError\u001b[0m: 'set' object is not subscriptable"
     ]
    }
   ],
   "source": [
    "sample_set[2]"
   ]
  },
  {
   "cell_type": "code",
   "execution_count": 73,
   "id": "98c61459",
   "metadata": {},
   "outputs": [
    {
     "ename": "TypeError",
     "evalue": "'set' object does not support item assignment",
     "output_type": "error",
     "traceback": [
      "\u001b[1;31m---------------------------------------------------------------------------\u001b[0m",
      "\u001b[1;31mTypeError\u001b[0m                                 Traceback (most recent call last)",
      "Input \u001b[1;32mIn [73]\u001b[0m, in \u001b[0;36m<cell line: 1>\u001b[1;34m()\u001b[0m\n\u001b[1;32m----> 1\u001b[0m sample_set[\u001b[38;5;241m1\u001b[39m]\u001b[38;5;241m=\u001b[39m\u001b[38;5;241m100\u001b[39m\n",
      "\u001b[1;31mTypeError\u001b[0m: 'set' object does not support item assignment"
     ]
    }
   ],
   "source": [
    "sample_set[1]=100"
   ]
  },
  {
   "cell_type": "code",
   "execution_count": 76,
   "id": "f0545275",
   "metadata": {},
   "outputs": [
    {
     "data": {
      "text/plain": [
       "{1.3, 10, 50, 89, 9, 'hi'}"
      ]
     },
     "execution_count": 76,
     "metadata": {},
     "output_type": "execute_result"
    }
   ],
   "source": [
    "sample_set.add(50)\n",
    "sample_set"
   ]
  },
  {
   "cell_type": "code",
   "execution_count": 83,
   "id": "05ded066",
   "metadata": {},
   "outputs": [
    {
     "data": {
      "text/plain": [
       "{1.3, 9, 10, 89}"
      ]
     },
     "execution_count": 83,
     "metadata": {},
     "output_type": "execute_result"
    }
   ],
   "source": [
    "sample_set.remove(50)\n",
    "sample_set"
   ]
  },
  {
   "cell_type": "code",
   "execution_count": 84,
   "id": "698582d0",
   "metadata": {},
   "outputs": [
    {
     "data": {
      "text/plain": [
       "{1.3, 10, 89, 9, 'hey'}"
      ]
     },
     "execution_count": 84,
     "metadata": {},
     "output_type": "execute_result"
    }
   ],
   "source": [
    "sample_set.add(\"hey\")\n",
    "sample_set"
   ]
  },
  {
   "cell_type": "code",
   "execution_count": 85,
   "id": "49b96d9d",
   "metadata": {},
   "outputs": [
    {
     "data": {
      "text/plain": [
       "{1.3, 9, 10, 89}"
      ]
     },
     "execution_count": 85,
     "metadata": {},
     "output_type": "execute_result"
    }
   ],
   "source": [
    "sample_set.remove(\"hey\")\n",
    "sample_set"
   ]
  },
  {
   "cell_type": "markdown",
   "id": "0aadc600-ef3f-4552-b1b3-ecfc4f3da747",
   "metadata": {},
   "source": [
    "### set is mutable"
   ]
  },
  {
   "cell_type": "markdown",
   "id": "da4bfec2-18e5-4740-818b-159dbb59a519",
   "metadata": {},
   "source": [
    "# Dictionary"
   ]
  },
  {
   "cell_type": "markdown",
   "id": "15bf0b32-4403-4ed9-9722-6e65aef10401",
   "metadata": {},
   "source": [
    "#### has key-value pair datastructure\n",
    "#### key is unique , value can be duplicated\n",
    "#### value can be retrived using key, but key can't be retrieved using value"
   ]
  },
  {
   "cell_type": "code",
   "execution_count": 5,
   "id": "a5390cb2-b5da-4b86-87d6-889ff36b3d9d",
   "metadata": {},
   "outputs": [
    {
     "data": {
      "text/plain": [
       "{1: 'Garv', 2: 'Payal', 3: '123', 4: 'heyy'}"
      ]
     },
     "execution_count": 5,
     "metadata": {},
     "output_type": "execute_result"
    }
   ],
   "source": [
    "sample_dict={1:\"Garv\",2:\"Payal\",3:\"123\",4:\"heyy\"}\n",
    "sample_dict"
   ]
  },
  {
   "cell_type": "code",
   "execution_count": 6,
   "id": "e2a55261-68c1-439a-8d52-67889354ca37",
   "metadata": {},
   "outputs": [
    {
     "data": {
      "text/plain": [
       "'heyy'"
      ]
     },
     "execution_count": 6,
     "metadata": {},
     "output_type": "execute_result"
    }
   ],
   "source": [
    "sample_dict[4]"
   ]
  },
  {
   "cell_type": "code",
   "execution_count": 7,
   "id": "25270f90-1bae-485a-8e74-328950a88745",
   "metadata": {},
   "outputs": [
    {
     "ename": "KeyError",
     "evalue": "'Garv'",
     "output_type": "error",
     "traceback": [
      "\u001b[1;31m---------------------------------------------------------------------------\u001b[0m",
      "\u001b[1;31mKeyError\u001b[0m                                  Traceback (most recent call last)",
      "Input \u001b[1;32mIn [7]\u001b[0m, in \u001b[0;36m<cell line: 1>\u001b[1;34m()\u001b[0m\n\u001b[1;32m----> 1\u001b[0m \u001b[43msample_dict\u001b[49m\u001b[43m[\u001b[49m\u001b[38;5;124;43m\"\u001b[39;49m\u001b[38;5;124;43mGarv\u001b[39;49m\u001b[38;5;124;43m\"\u001b[39;49m\u001b[43m]\u001b[49m\n",
      "\u001b[1;31mKeyError\u001b[0m: 'Garv'"
     ]
    }
   ],
   "source": [
    "sample_dict[\"Garv\"]"
   ]
  },
  {
   "cell_type": "code",
   "execution_count": null,
   "id": "e0486478-d1f1-4e08-acbf-6549afa02162",
   "metadata": {},
   "outputs": [],
   "source": []
  }
 ],
 "metadata": {
  "kernelspec": {
   "display_name": "Python 3 (ipykernel)",
   "language": "python",
   "name": "python3"
  },
  "language_info": {
   "codemirror_mode": {
    "name": "ipython",
    "version": 3
   },
   "file_extension": ".py",
   "mimetype": "text/x-python",
   "name": "python",
   "nbconvert_exporter": "python",
   "pygments_lexer": "ipython3",
   "version": "3.9.12"
  }
 },
 "nbformat": 4,
 "nbformat_minor": 5
}
